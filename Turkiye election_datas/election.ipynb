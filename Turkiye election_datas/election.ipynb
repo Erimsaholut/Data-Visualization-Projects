{
 "cells": [
  {
   "cell_type": "code",
   "execution_count": 1,
   "id": "5408dc47",
   "metadata": {},
   "outputs": [],
   "source": [
    "import numpy as np\n",
    "import pandas as pd \n",
    "import matplotlib.pyplot as plt\n",
    "import seaborn as sls"
   ]
  },
  {
   "cell_type": "code",
   "execution_count": 13,
   "id": "5373f3bb",
   "metadata": {},
   "outputs": [],
   "source": [
    "candidates = pd.read_json(\"election_datas/CumhurbaskaniAdayListesi.json\")\n",
    "candidates[\"Adı Soyadı\"] = candidates[\"Adı\"]+\" \"+candidates[\"Soyadı\"]\n",
    "new_order = [\"Adı Soyadı\",\"Üniversite/Yüksekokul\",\"Doğum Tarihi\",\"Aday Sıra No\"]\n",
    "candidates = candidates.reindex(columns=new_order)"
   ]
  },
  {
   "cell_type": "code",
   "execution_count": 64,
   "id": "a5164dda",
   "metadata": {},
   "outputs": [
    {
     "data": {
      "text/html": [
       "<div>\n",
       "<style scoped>\n",
       "    .dataframe tbody tr th:only-of-type {\n",
       "        vertical-align: middle;\n",
       "    }\n",
       "\n",
       "    .dataframe tbody tr th {\n",
       "        vertical-align: top;\n",
       "    }\n",
       "\n",
       "    .dataframe thead th {\n",
       "        text-align: right;\n",
       "    }\n",
       "</style>\n",
       "<table border=\"1\" class=\"dataframe\">\n",
       "  <thead>\n",
       "    <tr style=\"text-align: right;\">\n",
       "      <th></th>\n",
       "      <th>İl Id</th>\n",
       "      <th>İl Adı</th>\n",
       "      <th>Kayıtlı Seçmen Sayısı</th>\n",
       "      <th>Oy Kullanan Seçmen Sayısı</th>\n",
       "      <th>Geçerli Oy Toplamı</th>\n",
       "      <th>RECEP TAYYİP ERDOĞAN</th>\n",
       "      <th>MUHARREM İNCE</th>\n",
       "      <th>KEMAL KILIÇDAROĞLU</th>\n",
       "      <th>SİNAN OĞAN</th>\n",
       "    </tr>\n",
       "  </thead>\n",
       "  <tbody>\n",
       "    <tr>\n",
       "      <th>0</th>\n",
       "      <td></td>\n",
       "      <td>İLLER TOPLAMI</td>\n",
       "      <td>60.774.566</td>\n",
       "      <td>53.993.683</td>\n",
       "      <td>52.972.934</td>\n",
       "      <td>26.086.102</td>\n",
       "      <td>216.470</td>\n",
       "      <td>23.873.749</td>\n",
       "      <td>2.796.613</td>\n",
       "    </tr>\n",
       "    <tr>\n",
       "      <th>1</th>\n",
       "      <td>Oy Oranı</td>\n",
       "      <td>%49.24</td>\n",
       "      <td>%0.4</td>\n",
       "      <td>%45.06</td>\n",
       "      <td>%5.27</td>\n",
       "      <td></td>\n",
       "      <td></td>\n",
       "      <td></td>\n",
       "      <td></td>\n",
       "    </tr>\n",
       "    <tr>\n",
       "      <th>2</th>\n",
       "      <td>1</td>\n",
       "      <td>ADANA</td>\n",
       "      <td>1.615.326</td>\n",
       "      <td>1.414.720</td>\n",
       "      <td>1.388.925</td>\n",
       "      <td>610.132</td>\n",
       "      <td>5.110</td>\n",
       "      <td>706.780</td>\n",
       "      <td>66.903</td>\n",
       "    </tr>\n",
       "    <tr>\n",
       "      <th>3</th>\n",
       "      <td>Oy Oranı</td>\n",
       "      <td>%43.92</td>\n",
       "      <td>%0.36</td>\n",
       "      <td>%50.88</td>\n",
       "      <td>%4.81</td>\n",
       "      <td></td>\n",
       "      <td></td>\n",
       "      <td></td>\n",
       "      <td></td>\n",
       "    </tr>\n",
       "    <tr>\n",
       "      <th>4</th>\n",
       "      <td>2</td>\n",
       "      <td>ADIYAMAN</td>\n",
       "      <td>399.303</td>\n",
       "      <td>327.349</td>\n",
       "      <td>319.326</td>\n",
       "      <td>211.389</td>\n",
       "      <td>1.203</td>\n",
       "      <td>99.771</td>\n",
       "      <td>6.963</td>\n",
       "    </tr>\n",
       "    <tr>\n",
       "      <th>5</th>\n",
       "      <td>Oy Oranı</td>\n",
       "      <td>%66.19</td>\n",
       "      <td>%0.37</td>\n",
       "      <td>%31.24</td>\n",
       "      <td>%2.18</td>\n",
       "      <td></td>\n",
       "      <td></td>\n",
       "      <td></td>\n",
       "      <td></td>\n",
       "    </tr>\n",
       "    <tr>\n",
       "      <th>6</th>\n",
       "      <td>3</td>\n",
       "      <td>AFYONKARAHİSAR</td>\n",
       "      <td>536.910</td>\n",
       "      <td>484.078</td>\n",
       "      <td>472.801</td>\n",
       "      <td>301.941</td>\n",
       "      <td>2.642</td>\n",
       "      <td>136.507</td>\n",
       "      <td>31.711</td>\n",
       "    </tr>\n",
       "    <tr>\n",
       "      <th>7</th>\n",
       "      <td>Oy Oranı</td>\n",
       "      <td>%63.86</td>\n",
       "      <td>%0.55</td>\n",
       "      <td>%28.87</td>\n",
       "      <td>%6.7</td>\n",
       "      <td></td>\n",
       "      <td></td>\n",
       "      <td></td>\n",
       "      <td></td>\n",
       "    </tr>\n",
       "    <tr>\n",
       "      <th>8</th>\n",
       "      <td>4</td>\n",
       "      <td>AĞRI</td>\n",
       "      <td>307.114</td>\n",
       "      <td>223.749</td>\n",
       "      <td>215.851</td>\n",
       "      <td>68.468</td>\n",
       "      <td>873</td>\n",
       "      <td>142.021</td>\n",
       "      <td>4.489</td>\n",
       "    </tr>\n",
       "    <tr>\n",
       "      <th>9</th>\n",
       "      <td>Oy Oranı</td>\n",
       "      <td>%31.72</td>\n",
       "      <td>%0.4</td>\n",
       "      <td>%65.79</td>\n",
       "      <td>%2.07</td>\n",
       "      <td></td>\n",
       "      <td></td>\n",
       "      <td></td>\n",
       "      <td></td>\n",
       "    </tr>\n",
       "  </tbody>\n",
       "</table>\n",
       "</div>"
      ],
      "text/plain": [
       "      İl Id          İl Adı Kayıtlı Seçmen Sayısı Oy Kullanan Seçmen Sayısı  \\\n",
       "0             İLLER TOPLAMI           60.774.566                53.993.683    \n",
       "1  Oy Oranı         %49.24                  %0.4                    %45.06    \n",
       "2         1           ADANA            1.615.326                 1.414.720    \n",
       "3  Oy Oranı         %43.92                 %0.36                    %50.88    \n",
       "4         2        ADIYAMAN              399.303                   327.349    \n",
       "5  Oy Oranı         %66.19                 %0.37                    %31.24    \n",
       "6         3  AFYONKARAHİSAR              536.910                   484.078    \n",
       "7  Oy Oranı         %63.86                 %0.55                    %28.87    \n",
       "8         4            AĞRI              307.114                   223.749    \n",
       "9  Oy Oranı         %31.72                  %0.4                    %65.79    \n",
       "\n",
       "  Geçerli Oy Toplamı  RECEP TAYYİP ERDOĞAN   MUHARREM İNCE   \\\n",
       "0        52.972.934             26.086.102         216.470    \n",
       "1             %5.27                                           \n",
       "2         1.388.925                610.132           5.110    \n",
       "3             %4.81                                           \n",
       "4           319.326                211.389           1.203    \n",
       "5             %2.18                                           \n",
       "6           472.801                301.941           2.642    \n",
       "7              %6.7                                           \n",
       "8           215.851                 68.468             873    \n",
       "9             %2.07                                           \n",
       "\n",
       "   KEMAL KILIÇDAROĞLU   SİNAN OĞAN   \n",
       "0          23.873.749    2.796.613   \n",
       "1                                    \n",
       "2             706.780       66.903   \n",
       "3                                    \n",
       "4              99.771        6.963   \n",
       "5                                    \n",
       "6             136.507       31.711   \n",
       "7                                    \n",
       "8             142.021        4.489   \n",
       "9                                    "
      ]
     },
     "execution_count": 64,
     "metadata": {},
     "output_type": "execute_result"
    }
   ],
   "source": [
    "election_results_raw = pd.read_json(\"election_datas/SecimSonucIl.json\")\n",
    "election_results_raw.head(10)"
   ]
  },
  {
   "cell_type": "code",
   "execution_count": 105,
   "id": "90232e5e",
   "metadata": {},
   "outputs": [
    {
     "ename": "ValueError",
     "evalue": "could not convert string to float: ' %43.92 '",
     "output_type": "error",
     "traceback": [
      "\u001b[0;31m---------------------------------------------------------------------------\u001b[0m",
      "\u001b[0;31mValueError\u001b[0m                                Traceback (most recent call last)",
      "Input \u001b[0;32mIn [105]\u001b[0m, in \u001b[0;36m<cell line: 2>\u001b[0;34m()\u001b[0m\n\u001b[1;32m      3\u001b[0m province \u001b[38;5;241m=\u001b[39m election_results_raw\u001b[38;5;241m.\u001b[39miloc[i\u001b[38;5;241m-\u001b[39m\u001b[38;5;241m1\u001b[39m][\u001b[38;5;241m1\u001b[39m]\n\u001b[1;32m      4\u001b[0m percent \u001b[38;5;241m=\u001b[39m election_results_raw\u001b[38;5;241m.\u001b[39miloc[i][\u001b[38;5;241m1\u001b[39m]\n\u001b[0;32m----> 5\u001b[0m percent_float \u001b[38;5;241m=\u001b[39m \u001b[38;5;28;43mfloat\u001b[39;49m\u001b[43m(\u001b[49m\u001b[43mpercent\u001b[49m\u001b[38;5;241;43m.\u001b[39;49m\u001b[43mstrip\u001b[49m\u001b[43m(\u001b[49m\u001b[38;5;124;43m\"\u001b[39;49m\u001b[38;5;124;43m%\u001b[39;49m\u001b[38;5;124;43m\"\u001b[39;49m\u001b[43m)\u001b[49m\u001b[43m)\u001b[49m\n\u001b[1;32m      6\u001b[0m new_row \u001b[38;5;241m=\u001b[39m pd\u001b[38;5;241m.\u001b[39mDataFrame({\u001b[38;5;124m\"\u001b[39m\u001b[38;5;124mProvince\u001b[39m\u001b[38;5;124m\"\u001b[39m: [province], \u001b[38;5;124m\"\u001b[39m\u001b[38;5;124mPercent\u001b[39m\u001b[38;5;124m\"\u001b[39m: [percent_float]})\n\u001b[1;32m      7\u001b[0m election_results_for_erdogan \u001b[38;5;241m=\u001b[39m pd\u001b[38;5;241m.\u001b[39mconcat([election_results_for_erdogan, new_row], ignore_index\u001b[38;5;241m=\u001b[39m\u001b[38;5;28;01mTrue\u001b[39;00m)\n",
      "\u001b[0;31mValueError\u001b[0m: could not convert string to float: ' %43.92 '"
     ]
    }
   ],
   "source": [
    "election_results_for_erdogan = pd.DataFrame()\n",
    "for i in range(3,election_results_raw.shape[0],2):\n",
    "    province = election_results_raw.iloc[i-1][1]\n",
    "    percent = election_results_raw.iloc[i][1]\n",
    "    percent_float = float(percent.strip(\"%\"))\n",
    "    new_row = pd.DataFrame({\"Province\": [province], \"Percent\": [percent_float]})\n",
    "    election_results_for_erdogan = pd.concat([election_results_for_erdogan, new_row], ignore_index=True)\n",
    "    \n",
    "election_results_for_erdogan\n",
    "\n",
    "    \n",
    "\n",
    "    "
   ]
  },
  {
   "cell_type": "code",
   "execution_count": null,
   "id": "75527d3b",
   "metadata": {},
   "outputs": [],
   "source": []
  },
  {
   "cell_type": "code",
   "execution_count": null,
   "id": "14f8c365",
   "metadata": {},
   "outputs": [],
   "source": []
  },
  {
   "cell_type": "code",
   "execution_count": null,
   "id": "93bddf81",
   "metadata": {},
   "outputs": [],
   "source": []
  },
  {
   "cell_type": "code",
   "execution_count": null,
   "id": "d4b93c35",
   "metadata": {},
   "outputs": [],
   "source": []
  },
  {
   "cell_type": "code",
   "execution_count": null,
   "id": "e331e1c7",
   "metadata": {},
   "outputs": [],
   "source": []
  },
  {
   "cell_type": "code",
   "execution_count": null,
   "id": "1eaba45a",
   "metadata": {},
   "outputs": [],
   "source": []
  },
  {
   "cell_type": "code",
   "execution_count": null,
   "id": "3204da83",
   "metadata": {},
   "outputs": [],
   "source": []
  },
  {
   "cell_type": "code",
   "execution_count": null,
   "id": "d0388967",
   "metadata": {},
   "outputs": [],
   "source": []
  },
  {
   "cell_type": "code",
   "execution_count": null,
   "id": "17bf52d9",
   "metadata": {},
   "outputs": [],
   "source": []
  },
  {
   "cell_type": "code",
   "execution_count": null,
   "id": "19b1685e",
   "metadata": {},
   "outputs": [],
   "source": []
  },
  {
   "cell_type": "code",
   "execution_count": null,
   "id": "f2c7bb3f",
   "metadata": {},
   "outputs": [],
   "source": []
  },
  {
   "cell_type": "code",
   "execution_count": null,
   "id": "984c760c",
   "metadata": {},
   "outputs": [],
   "source": []
  },
  {
   "cell_type": "code",
   "execution_count": null,
   "id": "cac35a97",
   "metadata": {},
   "outputs": [],
   "source": []
  },
  {
   "cell_type": "code",
   "execution_count": null,
   "id": "daa945ef",
   "metadata": {},
   "outputs": [],
   "source": []
  },
  {
   "cell_type": "code",
   "execution_count": null,
   "id": "bc5a5690",
   "metadata": {},
   "outputs": [],
   "source": []
  },
  {
   "cell_type": "code",
   "execution_count": null,
   "id": "a7da393c",
   "metadata": {},
   "outputs": [],
   "source": []
  },
  {
   "cell_type": "code",
   "execution_count": null,
   "id": "7b169308",
   "metadata": {},
   "outputs": [],
   "source": []
  },
  {
   "cell_type": "code",
   "execution_count": null,
   "id": "2ef8bca2",
   "metadata": {},
   "outputs": [],
   "source": []
  },
  {
   "cell_type": "code",
   "execution_count": null,
   "id": "0dec8a7e",
   "metadata": {},
   "outputs": [],
   "source": []
  },
  {
   "cell_type": "code",
   "execution_count": null,
   "id": "b56a275e",
   "metadata": {},
   "outputs": [],
   "source": []
  },
  {
   "cell_type": "code",
   "execution_count": null,
   "id": "cd50c779",
   "metadata": {},
   "outputs": [],
   "source": []
  },
  {
   "cell_type": "code",
   "execution_count": null,
   "id": "d41f5c17",
   "metadata": {},
   "outputs": [],
   "source": []
  },
  {
   "cell_type": "code",
   "execution_count": null,
   "id": "9fbf0e66",
   "metadata": {},
   "outputs": [],
   "source": []
  },
  {
   "cell_type": "code",
   "execution_count": null,
   "id": "fbc346b4",
   "metadata": {},
   "outputs": [],
   "source": []
  },
  {
   "cell_type": "code",
   "execution_count": null,
   "id": "9c67ce5a",
   "metadata": {},
   "outputs": [],
   "source": []
  },
  {
   "cell_type": "code",
   "execution_count": null,
   "id": "661a9b2f",
   "metadata": {},
   "outputs": [],
   "source": []
  },
  {
   "cell_type": "code",
   "execution_count": null,
   "id": "5849b0b0",
   "metadata": {},
   "outputs": [],
   "source": []
  },
  {
   "cell_type": "code",
   "execution_count": null,
   "id": "32b8fd9a",
   "metadata": {},
   "outputs": [],
   "source": []
  },
  {
   "cell_type": "code",
   "execution_count": null,
   "id": "e00d72d9",
   "metadata": {},
   "outputs": [],
   "source": []
  },
  {
   "cell_type": "code",
   "execution_count": null,
   "id": "78971978",
   "metadata": {},
   "outputs": [],
   "source": []
  },
  {
   "cell_type": "code",
   "execution_count": null,
   "id": "2b880131",
   "metadata": {},
   "outputs": [],
   "source": []
  },
  {
   "cell_type": "code",
   "execution_count": null,
   "id": "668b8a2f",
   "metadata": {},
   "outputs": [],
   "source": []
  },
  {
   "cell_type": "code",
   "execution_count": null,
   "id": "37e8a0bb",
   "metadata": {},
   "outputs": [],
   "source": []
  },
  {
   "cell_type": "code",
   "execution_count": null,
   "id": "c3831d86",
   "metadata": {},
   "outputs": [],
   "source": []
  },
  {
   "cell_type": "code",
   "execution_count": null,
   "id": "818c4457",
   "metadata": {},
   "outputs": [],
   "source": []
  }
 ],
 "metadata": {
  "kernelspec": {
   "display_name": "Python 3 (ipykernel)",
   "language": "python",
   "name": "python3"
  },
  "language_info": {
   "codemirror_mode": {
    "name": "ipython",
    "version": 3
   },
   "file_extension": ".py",
   "mimetype": "text/x-python",
   "name": "python",
   "nbconvert_exporter": "python",
   "pygments_lexer": "ipython3",
   "version": "3.9.12"
  }
 },
 "nbformat": 4,
 "nbformat_minor": 5
}
