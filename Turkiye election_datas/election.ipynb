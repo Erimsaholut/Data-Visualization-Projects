{
 "cells": [
  {
   "cell_type": "markdown",
   "id": "1b2f9899",
   "metadata": {},
   "source": [
    "This work does not serve any academic or political purpose. It has been prepared solely using publicly available resources on the internet and is intended for educational purposes only.\n",
    "\n",
    "Bu çalışma, herhangi bir akademik ya da siyasi amaç taşımamaktadır. Tamamen internetteki herkese açık kaynaklar kullanılarak hazırlanmış olup yalnızca eğitim amaçlıdır."
   ]
  },
  {
   "cell_type": "code",
   "execution_count": 1,
   "id": "54e58898",
   "metadata": {},
   "outputs": [],
   "source": [
    "import numpy as np\n",
    "import pandas as pd \n",
    "import matplotlib.pyplot as plt\n",
    "import seaborn as sls"
   ]
  },
  {
   "cell_type": "markdown",
   "id": "1e290f22",
   "metadata": {},
   "source": [
    "I import the libraries that we use in this project"
   ]
  },
  {
   "cell_type": "code",
   "execution_count": 2,
   "id": "5d7f494e",
   "metadata": {},
   "outputs": [],
   "source": [
    "candidates = pd.read_json(\"election_datas/CumhurbaskaniAdayListesi.json\")\n",
    "candidates[\"Adı Soyadı\"] = candidates[\"Adı\"]+\" \"+candidates[\"Soyadı\"]\n",
    "new_order = [\"Adı Soyadı\",\"Üniversite/Yüksekokul\",\"Doğum Tarihi\",\"Aday Sıra No\"]\n",
    "candidates = candidates.reindex(columns=new_order)"
   ]
  },
  {
   "cell_type": "code",
   "execution_count": 3,
   "id": "79280936",
   "metadata": {
    "scrolled": true
   },
   "outputs": [
    {
     "data": {
      "text/html": [
       "<div>\n",
       "<style scoped>\n",
       "    .dataframe tbody tr th:only-of-type {\n",
       "        vertical-align: middle;\n",
       "    }\n",
       "\n",
       "    .dataframe tbody tr th {\n",
       "        vertical-align: top;\n",
       "    }\n",
       "\n",
       "    .dataframe thead th {\n",
       "        text-align: right;\n",
       "    }\n",
       "</style>\n",
       "<table border=\"1\" class=\"dataframe\">\n",
       "  <thead>\n",
       "    <tr style=\"text-align: right;\">\n",
       "      <th></th>\n",
       "      <th>İl Id</th>\n",
       "      <th>İl Adı</th>\n",
       "      <th>Kayıtlı Seçmen Sayısı</th>\n",
       "      <th>Oy Kullanan Seçmen Sayısı</th>\n",
       "      <th>Geçerli Oy Toplamı</th>\n",
       "      <th>RECEP TAYYİP ERDOĞAN</th>\n",
       "      <th>MUHARREM İNCE</th>\n",
       "      <th>KEMAL KILIÇDAROĞLU</th>\n",
       "      <th>SİNAN OĞAN</th>\n",
       "    </tr>\n",
       "  </thead>\n",
       "  <tbody>\n",
       "    <tr>\n",
       "      <th>0</th>\n",
       "      <td></td>\n",
       "      <td>İLLER TOPLAMI</td>\n",
       "      <td>60.774.566</td>\n",
       "      <td>53.993.683</td>\n",
       "      <td>52.972.934</td>\n",
       "      <td>26.086.102</td>\n",
       "      <td>216.470</td>\n",
       "      <td>23.873.749</td>\n",
       "      <td>2.796.613</td>\n",
       "    </tr>\n",
       "    <tr>\n",
       "      <th>1</th>\n",
       "      <td>Oy Oranı</td>\n",
       "      <td>%49.24</td>\n",
       "      <td>%0.4</td>\n",
       "      <td>%45.06</td>\n",
       "      <td>%5.27</td>\n",
       "      <td></td>\n",
       "      <td></td>\n",
       "      <td></td>\n",
       "      <td></td>\n",
       "    </tr>\n",
       "    <tr>\n",
       "      <th>2</th>\n",
       "      <td>1</td>\n",
       "      <td>ADANA</td>\n",
       "      <td>1.615.326</td>\n",
       "      <td>1.414.720</td>\n",
       "      <td>1.388.925</td>\n",
       "      <td>610.132</td>\n",
       "      <td>5.110</td>\n",
       "      <td>706.780</td>\n",
       "      <td>66.903</td>\n",
       "    </tr>\n",
       "    <tr>\n",
       "      <th>3</th>\n",
       "      <td>Oy Oranı</td>\n",
       "      <td>%43.92</td>\n",
       "      <td>%0.36</td>\n",
       "      <td>%50.88</td>\n",
       "      <td>%4.81</td>\n",
       "      <td></td>\n",
       "      <td></td>\n",
       "      <td></td>\n",
       "      <td></td>\n",
       "    </tr>\n",
       "    <tr>\n",
       "      <th>4</th>\n",
       "      <td>2</td>\n",
       "      <td>ADIYAMAN</td>\n",
       "      <td>399.303</td>\n",
       "      <td>327.349</td>\n",
       "      <td>319.326</td>\n",
       "      <td>211.389</td>\n",
       "      <td>1.203</td>\n",
       "      <td>99.771</td>\n",
       "      <td>6.963</td>\n",
       "    </tr>\n",
       "    <tr>\n",
       "      <th>5</th>\n",
       "      <td>Oy Oranı</td>\n",
       "      <td>%66.19</td>\n",
       "      <td>%0.37</td>\n",
       "      <td>%31.24</td>\n",
       "      <td>%2.18</td>\n",
       "      <td></td>\n",
       "      <td></td>\n",
       "      <td></td>\n",
       "      <td></td>\n",
       "    </tr>\n",
       "    <tr>\n",
       "      <th>6</th>\n",
       "      <td>3</td>\n",
       "      <td>AFYONKARAHİSAR</td>\n",
       "      <td>536.910</td>\n",
       "      <td>484.078</td>\n",
       "      <td>472.801</td>\n",
       "      <td>301.941</td>\n",
       "      <td>2.642</td>\n",
       "      <td>136.507</td>\n",
       "      <td>31.711</td>\n",
       "    </tr>\n",
       "    <tr>\n",
       "      <th>7</th>\n",
       "      <td>Oy Oranı</td>\n",
       "      <td>%63.86</td>\n",
       "      <td>%0.55</td>\n",
       "      <td>%28.87</td>\n",
       "      <td>%6.7</td>\n",
       "      <td></td>\n",
       "      <td></td>\n",
       "      <td></td>\n",
       "      <td></td>\n",
       "    </tr>\n",
       "    <tr>\n",
       "      <th>8</th>\n",
       "      <td>4</td>\n",
       "      <td>AĞRI</td>\n",
       "      <td>307.114</td>\n",
       "      <td>223.749</td>\n",
       "      <td>215.851</td>\n",
       "      <td>68.468</td>\n",
       "      <td>873</td>\n",
       "      <td>142.021</td>\n",
       "      <td>4.489</td>\n",
       "    </tr>\n",
       "    <tr>\n",
       "      <th>9</th>\n",
       "      <td>Oy Oranı</td>\n",
       "      <td>%31.72</td>\n",
       "      <td>%0.4</td>\n",
       "      <td>%65.79</td>\n",
       "      <td>%2.07</td>\n",
       "      <td></td>\n",
       "      <td></td>\n",
       "      <td></td>\n",
       "      <td></td>\n",
       "    </tr>\n",
       "  </tbody>\n",
       "</table>\n",
       "</div>"
      ],
      "text/plain": [
       "      İl Id          İl Adı Kayıtlı Seçmen Sayısı Oy Kullanan Seçmen Sayısı  \\\n",
       "0             İLLER TOPLAMI           60.774.566                53.993.683    \n",
       "1  Oy Oranı         %49.24                  %0.4                    %45.06    \n",
       "2         1           ADANA            1.615.326                 1.414.720    \n",
       "3  Oy Oranı         %43.92                 %0.36                    %50.88    \n",
       "4         2        ADIYAMAN              399.303                   327.349    \n",
       "5  Oy Oranı         %66.19                 %0.37                    %31.24    \n",
       "6         3  AFYONKARAHİSAR              536.910                   484.078    \n",
       "7  Oy Oranı         %63.86                 %0.55                    %28.87    \n",
       "8         4            AĞRI              307.114                   223.749    \n",
       "9  Oy Oranı         %31.72                  %0.4                    %65.79    \n",
       "\n",
       "  Geçerli Oy Toplamı  RECEP TAYYİP ERDOĞAN   MUHARREM İNCE   \\\n",
       "0        52.972.934             26.086.102         216.470    \n",
       "1             %5.27                                           \n",
       "2         1.388.925                610.132           5.110    \n",
       "3             %4.81                                           \n",
       "4           319.326                211.389           1.203    \n",
       "5             %2.18                                           \n",
       "6           472.801                301.941           2.642    \n",
       "7              %6.7                                           \n",
       "8           215.851                 68.468             873    \n",
       "9             %2.07                                           \n",
       "\n",
       "   KEMAL KILIÇDAROĞLU   SİNAN OĞAN   \n",
       "0          23.873.749    2.796.613   \n",
       "1                                    \n",
       "2             706.780       66.903   \n",
       "3                                    \n",
       "4              99.771        6.963   \n",
       "5                                    \n",
       "6             136.507       31.711   \n",
       "7                                    \n",
       "8             142.021        4.489   \n",
       "9                                    "
      ]
     },
     "execution_count": 3,
     "metadata": {},
     "output_type": "execute_result"
    }
   ],
   "source": [
    "election_results_raw = pd.read_json(\"election_datas/SecimSonucIl.json\")\n",
    "election_results_raw.head(10)"
   ]
  },
  {
   "cell_type": "markdown",
   "id": "c10fe4e1",
   "metadata": {},
   "source": [
    "I import the main datas but as you can see election_results_raw data is poorly labeled and a bir corrupted"
   ]
  },
  {
   "cell_type": "code",
   "execution_count": 4,
   "id": "7de693aa",
   "metadata": {},
   "outputs": [],
   "source": [
    "from unidecode import unidecode\n",
    "columns = [\"Province Name\"] + [f\"{name} Percent\" for name in candidates[\"Adı Soyadı\"]]\n",
    "\n",
    "election_result_percentages = pd.DataFrame(columns=columns)\n",
    "\n",
    "for i in range(3,election_results_raw.shape[0],2):\n",
    "    province = election_results_raw.iloc[i-1, 1]\n",
    "    province = unidecode(province).capitalize()\n",
    "    percentages = election_results_raw.iloc[i]\n",
    "    new_row = [province]\n",
    "    \n",
    "    for j in range(1,5):\n",
    "        candidate = candidates[\"Adı Soyadı\"][j-1]\n",
    "        percent_float = float(percentages.iloc[j].strip().strip(\"%\"))\n",
    "        new_row.append(percent_float)\n",
    "        \n",
    "    new_row = pd.DataFrame([new_row], columns=columns)\n",
    "    election_result_percentages = pd.concat([election_result_percentages, new_row], ignore_index=True)\n",
    "    \n",
    "    percent_columns = [col for col in election_result_percentages.columns if \"Percent\" in col]\n",
    "    election_result_percentages[percent_columns] = election_result_percentages[percent_columns].astype(float)"
   ]
  },
  {
   "cell_type": "markdown",
   "id": "11eb08f4",
   "metadata": {},
   "source": [
    "I clean and separate the data in the code below. The loop function checks every row and separates the election results by candidates."
   ]
  },
  {
   "cell_type": "code",
   "execution_count": 5,
   "id": "d181ebfb",
   "metadata": {},
   "outputs": [],
   "source": [
    "avg_education = pd.read_excel(\"election_datas/illere gore ortalama egitim suresi.xltx\")\n",
    "\n",
    "avg_iq = pd.read_csv(\"election_datas/turkiye_mean_iq_data.csv\")"
   ]
  },
  {
   "cell_type": "markdown",
   "id": "45226a55",
   "metadata": {},
   "source": [
    "I import average IQ levels and average education duration data by province. These two datasets may help us investigate the differences between the candidates and their voters."
   ]
  },
  {
   "cell_type": "code",
   "execution_count": 6,
   "id": "fc666f4d",
   "metadata": {},
   "outputs": [],
   "source": [
    "avg_education[\"Province name\"] = avg_education[\"Province name\"].str.strip()\n",
    "\n",
    "avg_iq.rename(columns={\"#\":\"Province Name\",\"İl\":\"Average IQ\"},inplace=True)\n",
    "\n",
    "avg_education.rename(columns={\"Total\":\"Average Education Duration\",\n",
    "                              \"Province name\":\"Province Name\"},\n",
    "                     inplace=True)\n"
   ]
  },
  {
   "cell_type": "markdown",
   "id": "acf0d170",
   "metadata": {},
   "source": [
    "Some columns were causing a problem so i renamed and fix them"
   ]
  },
  {
   "cell_type": "code",
   "execution_count": 1,
   "id": "2d899e46",
   "metadata": {
    "scrolled": true
   },
   "outputs": [
    {
     "ename": "NameError",
     "evalue": "name 'pd' is not defined",
     "output_type": "error",
     "traceback": [
      "\u001b[0;31m---------------------------------------------------------------------------\u001b[0m",
      "\u001b[0;31mNameError\u001b[0m                                 Traceback (most recent call last)",
      "Input \u001b[0;32mIn [1]\u001b[0m, in \u001b[0;36m<cell line: 1>\u001b[0;34m()\u001b[0m\n\u001b[0;32m----> 1\u001b[0m merged_iq_edu \u001b[38;5;241m=\u001b[39m \u001b[43mpd\u001b[49m\u001b[38;5;241m.\u001b[39mmerge(\n\u001b[1;32m      2\u001b[0m     avg_education[[\u001b[38;5;124m\"\u001b[39m\u001b[38;5;124mProvince Name\u001b[39m\u001b[38;5;124m\"\u001b[39m, \u001b[38;5;124m\"\u001b[39m\u001b[38;5;124mAverage Education Duration\u001b[39m\u001b[38;5;124m\"\u001b[39m]],\n\u001b[1;32m      3\u001b[0m     avg_iq[[\u001b[38;5;124m\"\u001b[39m\u001b[38;5;124mProvince Name\u001b[39m\u001b[38;5;124m\"\u001b[39m, \u001b[38;5;124m\"\u001b[39m\u001b[38;5;124mAverage IQ\u001b[39m\u001b[38;5;124m\"\u001b[39m]],\n\u001b[1;32m      4\u001b[0m     on\u001b[38;5;241m=\u001b[39m\u001b[38;5;124m\"\u001b[39m\u001b[38;5;124mProvince Name\u001b[39m\u001b[38;5;124m\"\u001b[39m)\n\u001b[1;32m      6\u001b[0m merged_iq_edu[\u001b[38;5;124m\"\u001b[39m\u001b[38;5;124mProvince Name\u001b[39m\u001b[38;5;124m\"\u001b[39m] \u001b[38;5;241m=\u001b[39m merged_iq_edu[\u001b[38;5;124m\"\u001b[39m\u001b[38;5;124mProvince Name\u001b[39m\u001b[38;5;124m\"\u001b[39m]\u001b[38;5;241m.\u001b[39mapply(\u001b[38;5;28;01mlambda\u001b[39;00m x: unidecode(x))\n\u001b[1;32m      8\u001b[0m merged_all_election \u001b[38;5;241m=\u001b[39m pd\u001b[38;5;241m.\u001b[39mmerge(\n\u001b[1;32m      9\u001b[0m     merged_iq_edu,\n\u001b[1;32m     10\u001b[0m         election_result_percentages,\n\u001b[1;32m     11\u001b[0m     on\u001b[38;5;241m=\u001b[39m\u001b[38;5;124m\"\u001b[39m\u001b[38;5;124mProvince Name\u001b[39m\u001b[38;5;124m\"\u001b[39m)\n",
      "\u001b[0;31mNameError\u001b[0m: name 'pd' is not defined"
     ]
    }
   ],
   "source": [
    "merged_iq_edu = pd.merge(\n",
    "    avg_education[[\"Province Name\", \"Average Education Duration\"]],\n",
    "    avg_iq[[\"Province Name\", \"Average IQ\"]],\n",
    "    on=\"Province Name\")\n",
    "\n",
    "merged_iq_edu[\"Province Name\"] = merged_iq_edu[\"Province Name\"].apply(lambda x: unidecode(x))\n",
    "\n",
    "merged_all_election = pd.merge(\n",
    "    merged_iq_edu,\n",
    "        election_result_percentages,\n",
    "    on=\"Province Name\")"
   ]
  },
  {
   "cell_type": "markdown",
   "id": "c890a4b7",
   "metadata": {},
   "source": [
    "It's time to merge our three dataset"
   ]
  },
  {
   "cell_type": "code",
   "execution_count": 12,
   "id": "333cccad",
   "metadata": {
    "scrolled": true
   },
   "outputs": [
    {
     "data": {
      "text/html": [
       "<div>\n",
       "<style scoped>\n",
       "    .dataframe tbody tr th:only-of-type {\n",
       "        vertical-align: middle;\n",
       "    }\n",
       "\n",
       "    .dataframe tbody tr th {\n",
       "        vertical-align: top;\n",
       "    }\n",
       "\n",
       "    .dataframe thead th {\n",
       "        text-align: right;\n",
       "    }\n",
       "</style>\n",
       "<table border=\"1\" class=\"dataframe\">\n",
       "  <thead>\n",
       "    <tr style=\"text-align: right;\">\n",
       "      <th></th>\n",
       "      <th>Average Education Duration</th>\n",
       "      <th>Average IQ</th>\n",
       "      <th>RECEP TAYYİP ERDOĞAN Percent</th>\n",
       "    </tr>\n",
       "  </thead>\n",
       "  <tbody>\n",
       "    <tr>\n",
       "      <th>Average Education Duration</th>\n",
       "      <td>1.000000</td>\n",
       "      <td>0.542144</td>\n",
       "      <td>-0.144464</td>\n",
       "    </tr>\n",
       "    <tr>\n",
       "      <th>Average IQ</th>\n",
       "      <td>0.542144</td>\n",
       "      <td>1.000000</td>\n",
       "      <td>-0.034847</td>\n",
       "    </tr>\n",
       "    <tr>\n",
       "      <th>RECEP TAYYİP ERDOĞAN Percent</th>\n",
       "      <td>-0.144464</td>\n",
       "      <td>-0.034847</td>\n",
       "      <td>1.000000</td>\n",
       "    </tr>\n",
       "  </tbody>\n",
       "</table>\n",
       "</div>"
      ],
      "text/plain": [
       "                              Average Education Duration  Average IQ  \\\n",
       "Average Education Duration                      1.000000    0.542144   \n",
       "Average IQ                                      0.542144    1.000000   \n",
       "RECEP TAYYİP ERDOĞAN Percent                   -0.144464   -0.034847   \n",
       "\n",
       "                              RECEP TAYYİP ERDOĞAN Percent  \n",
       "Average Education Duration                       -0.144464  \n",
       "Average IQ                                       -0.034847  \n",
       "RECEP TAYYİP ERDOĞAN Percent                      1.000000  "
      ]
     },
     "execution_count": 12,
     "metadata": {},
     "output_type": "execute_result"
    }
   ],
   "source": [
    "merged_all_election[[\"Average Education Duration\",\"Average IQ\",\"RECEP TAYYİP ERDOĞAN Percent\"]].corr()"
   ]
  },
  {
   "cell_type": "code",
   "execution_count": 19,
   "id": "bfc10115",
   "metadata": {
    "scrolled": true
   },
   "outputs": [
    {
     "data": {
      "text/html": [
       "<div>\n",
       "<style scoped>\n",
       "    .dataframe tbody tr th:only-of-type {\n",
       "        vertical-align: middle;\n",
       "    }\n",
       "\n",
       "    .dataframe tbody tr th {\n",
       "        vertical-align: top;\n",
       "    }\n",
       "\n",
       "    .dataframe thead th {\n",
       "        text-align: right;\n",
       "    }\n",
       "</style>\n",
       "<table border=\"1\" class=\"dataframe\">\n",
       "  <thead>\n",
       "    <tr style=\"text-align: right;\">\n",
       "      <th></th>\n",
       "      <th>Average Education Duration</th>\n",
       "      <th>Average IQ</th>\n",
       "      <th>RECEP TAYYİP ERDOĞAN Percent</th>\n",
       "      <th>MUHARREM İNCE Percent</th>\n",
       "      <th>KEMAL KILIÇDAROĞLU Percent</th>\n",
       "      <th>SİNAN OĞAN Percent</th>\n",
       "    </tr>\n",
       "  </thead>\n",
       "  <tbody>\n",
       "    <tr>\n",
       "      <th>Average Education Duration</th>\n",
       "      <td>1.000000</td>\n",
       "      <td>0.542144</td>\n",
       "      <td>-0.144464</td>\n",
       "      <td>-0.025684</td>\n",
       "      <td>0.098162</td>\n",
       "      <td>0.306956</td>\n",
       "    </tr>\n",
       "    <tr>\n",
       "      <th>Average IQ</th>\n",
       "      <td>0.542144</td>\n",
       "      <td>1.000000</td>\n",
       "      <td>-0.034847</td>\n",
       "      <td>0.298690</td>\n",
       "      <td>-0.017048</td>\n",
       "      <td>0.366433</td>\n",
       "    </tr>\n",
       "  </tbody>\n",
       "</table>\n",
       "</div>"
      ],
      "text/plain": [
       "                            Average Education Duration  Average IQ  \\\n",
       "Average Education Duration                    1.000000    0.542144   \n",
       "Average IQ                                    0.542144    1.000000   \n",
       "\n",
       "                            RECEP TAYYİP ERDOĞAN Percent  \\\n",
       "Average Education Duration                     -0.144464   \n",
       "Average IQ                                     -0.034847   \n",
       "\n",
       "                            MUHARREM İNCE Percent  KEMAL KILIÇDAROĞLU Percent  \\\n",
       "Average Education Duration              -0.025684                    0.098162   \n",
       "Average IQ                               0.298690                   -0.017048   \n",
       "\n",
       "                            SİNAN OĞAN Percent  \n",
       "Average Education Duration            0.306956  \n",
       "Average IQ                            0.366433  "
      ]
     },
     "execution_count": 19,
     "metadata": {},
     "output_type": "execute_result"
    }
   ],
   "source": [
    "merged_all_election.corr().iloc[:2]"
   ]
  },
  {
   "cell_type": "markdown",
   "id": "25a581cd",
   "metadata": {},
   "source": [
    "\t•\tThe duration of education and average IQ seem to be related to the vote rates of some candidates (e.g., Sinan Oğan), but these relationships are not strong.\n",
    "    \n",
    "\t•\tWeak negative correlations are observed between Recep Tayyip Erdoğan’s vote rate and both the duration of education and IQ."
   ]
  }
 ],
 "metadata": {
  "kernelspec": {
   "display_name": "Python 3 (ipykernel)",
   "language": "python",
   "name": "python3"
  },
  "language_info": {
   "codemirror_mode": {
    "name": "ipython",
    "version": 3
   },
   "file_extension": ".py",
   "mimetype": "text/x-python",
   "name": "python",
   "nbconvert_exporter": "python",
   "pygments_lexer": "ipython3",
   "version": "3.9.12"
  }
 },
 "nbformat": 4,
 "nbformat_minor": 5
}
